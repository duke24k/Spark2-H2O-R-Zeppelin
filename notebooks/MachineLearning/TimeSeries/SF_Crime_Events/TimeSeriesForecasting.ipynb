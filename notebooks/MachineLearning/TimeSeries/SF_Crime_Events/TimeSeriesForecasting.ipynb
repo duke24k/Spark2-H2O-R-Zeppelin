{
 "cells": [
  {
   "cell_type": "code",
   "execution_count": 47,
   "metadata": {
    "collapsed": false
   },
   "outputs": [],
   "source": [
    "import pandas as pd\n",
    "from datetime import datetime\n",
    "from matplotlib import pyplot as plt\n",
    "%matplotlib inline"
   ]
  },
  {
   "cell_type": "code",
   "execution_count": 48,
   "metadata": {
    "collapsed": false
   },
   "outputs": [],
   "source": [
    "# https://data.sfgov.org/Public-Safety/SFPD-Incidents-Current-Year-2015-/ritf-b9ki\n",
    "df = pd.read_csv(\"DATAFILE.csv\")"
   ]
  },
  {
   "cell_type": "code",
   "execution_count": 49,
   "metadata": {
    "collapsed": false
   },
   "outputs": [
    {
     "data": {
      "text/plain": [
       "IncidntNum      int64\n",
       "Category       object\n",
       "Descript       object\n",
       "DayOfWeek      object\n",
       "Date           object\n",
       "Time           object\n",
       "PdDistrict     object\n",
       "Resolution     object\n",
       "Address        object\n",
       "X             float64\n",
       "Y             float64\n",
       "Location       object\n",
       "PdId            int64\n",
       "dtype: object"
      ]
     },
     "execution_count": 49,
     "metadata": {},
     "output_type": "execute_result"
    }
   ],
   "source": [
    "df.dtypes"
   ]
  },
  {
   "cell_type": "code",
   "execution_count": 50,
   "metadata": {
    "collapsed": false
   },
   "outputs": [
    {
     "data": {
      "text/html": [
       "<div>\n",
       "<table border=\"1\" class=\"dataframe\">\n",
       "  <thead>\n",
       "    <tr style=\"text-align: right;\">\n",
       "      <th></th>\n",
       "      <th>IncidntNum</th>\n",
       "      <th>Category</th>\n",
       "      <th>Descript</th>\n",
       "      <th>DayOfWeek</th>\n",
       "      <th>Date</th>\n",
       "      <th>Time</th>\n",
       "      <th>PdDistrict</th>\n",
       "      <th>Resolution</th>\n",
       "      <th>Address</th>\n",
       "      <th>X</th>\n",
       "      <th>Y</th>\n",
       "      <th>Location</th>\n",
       "      <th>PdId</th>\n",
       "    </tr>\n",
       "  </thead>\n",
       "  <tbody>\n",
       "    <tr>\n",
       "      <th>156541</th>\n",
       "      <td>90578136</td>\n",
       "      <td>VEHICLE THEFT</td>\n",
       "      <td>STOLEN AUTOMOBILE</td>\n",
       "      <td>Friday</td>\n",
       "      <td>05/22/2015 12:00:00 AM</td>\n",
       "      <td>11:30</td>\n",
       "      <td>INGLESIDE</td>\n",
       "      <td>NONE</td>\n",
       "      <td>500 Block of FRANCONIA ST</td>\n",
       "      <td>-122.408153</td>\n",
       "      <td>37.741776</td>\n",
       "      <td>(37.7417759604289, -122.408153165952)</td>\n",
       "      <td>9057813607021</td>\n",
       "    </tr>\n",
       "    <tr>\n",
       "      <th>156542</th>\n",
       "      <td>981021761</td>\n",
       "      <td>WARRANTS</td>\n",
       "      <td>WARRANT ARREST</td>\n",
       "      <td>Wednesday</td>\n",
       "      <td>09/30/2015 12:00:00 AM</td>\n",
       "      <td>23:53</td>\n",
       "      <td>NORTHERN</td>\n",
       "      <td>ARREST, BOOKED</td>\n",
       "      <td>OLIVE ST / VANNESS AV</td>\n",
       "      <td>-122.421097</td>\n",
       "      <td>37.784294</td>\n",
       "      <td>(37.7842937802977, -122.421096796936)</td>\n",
       "      <td>98102176163010</td>\n",
       "    </tr>\n",
       "  </tbody>\n",
       "</table>\n",
       "</div>"
      ],
      "text/plain": [
       "        IncidntNum       Category           Descript  DayOfWeek  \\\n",
       "156541    90578136  VEHICLE THEFT  STOLEN AUTOMOBILE     Friday   \n",
       "156542   981021761       WARRANTS     WARRANT ARREST  Wednesday   \n",
       "\n",
       "                          Date   Time PdDistrict      Resolution  \\\n",
       "156541  05/22/2015 12:00:00 AM  11:30  INGLESIDE            NONE   \n",
       "156542  09/30/2015 12:00:00 AM  23:53   NORTHERN  ARREST, BOOKED   \n",
       "\n",
       "                          Address           X          Y  \\\n",
       "156541  500 Block of FRANCONIA ST -122.408153  37.741776   \n",
       "156542      OLIVE ST / VANNESS AV -122.421097  37.784294   \n",
       "\n",
       "                                     Location            PdId  \n",
       "156541  (37.7417759604289, -122.408153165952)   9057813607021  \n",
       "156542  (37.7842937802977, -122.421096796936)  98102176163010  "
      ]
     },
     "execution_count": 50,
     "metadata": {},
     "output_type": "execute_result"
    }
   ],
   "source": [
    "df.tail(2)"
   ]
  },
  {
   "cell_type": "code",
   "execution_count": 51,
   "metadata": {
    "collapsed": false
   },
   "outputs": [],
   "source": [
    "df['DateInTS'] = map(lambda x: datetime.strptime(x,\"%m/%d/%Y %H:%M:%S %p\"),df['Date'])"
   ]
  },
  {
   "cell_type": "code",
   "execution_count": 52,
   "metadata": {
    "collapsed": true
   },
   "outputs": [],
   "source": [
    "df['Month'] = map(lambda x: datetime.strftime(x,'%m'),df['DateInTS'])"
   ]
  },
  {
   "cell_type": "code",
   "execution_count": 53,
   "metadata": {
    "collapsed": true
   },
   "outputs": [],
   "source": [
    "df_ts = df.groupby('Month').aggregate(len)[\"IncidntNum\"]"
   ]
  },
  {
   "cell_type": "code",
   "execution_count": 54,
   "metadata": {
    "collapsed": false
   },
   "outputs": [
    {
     "data": {
      "text/plain": [
       "Month\n",
       "01    13614\n",
       "02    12329\n",
       "03    13929\n",
       "04    12963\n",
       "05    13729\n",
       "06    13304\n",
       "07    13365\n",
       "08    13730\n",
       "09    12896\n",
       "10    13152\n",
       "11    12091\n",
       "12    11441\n",
       "Name: IncidntNum, dtype: int64"
      ]
     },
     "execution_count": 54,
     "metadata": {},
     "output_type": "execute_result"
    }
   ],
   "source": [
    "df_ts"
   ]
  },
  {
   "cell_type": "code",
   "execution_count": 55,
   "metadata": {
    "collapsed": false
   },
   "outputs": [
    {
     "data": {
      "text/plain": [
       "<matplotlib.text.Text at 0x10fb51990>"
      ]
     },
     "execution_count": 55,
     "metadata": {},
     "output_type": "execute_result"
    },
    {
     "data": {
      "image/png": "[encoded data removed]",
      "text/plain": [
       "<matplotlib.figure.Figure at 0x114204dd0>"
      ]
     },
     "metadata": {},
     "output_type": "display_data"
    }
   ],
   "source": [
    "plt.plot(df_ts.index,df_ts.values,'-k',lw=2)\n",
    "plt.xlabel(\"Month\")\n",
    "plt.ylabel(\"Number of Crimes\")"
   ]
  },
  {
   "cell_type": "code",
   "execution_count": 56,
   "metadata": {
    "collapsed": true
   },
   "outputs": [],
   "source": [
    "import numpy as np"
   ]
  },
  {
   "cell_type": "code",
   "execution_count": 59,
   "metadata": {
    "collapsed": true
   },
   "outputs": [],
   "source": [
    "window1 = (datetime(2015,3,22),datetime(2015,6,21))"
   ]
  },
  {
   "cell_type": "code",
   "execution_count": 68,
   "metadata": {
    "collapsed": false
   },
   "outputs": [
    {
     "data": {
      "text/plain": [
       "datetime.datetime(2015, 3, 22, 0, 0)"
      ]
     },
     "execution_count": 68,
     "metadata": {},
     "output_type": "execute_result"
    }
   ],
   "source": [
    "window1[0]"
   ]
  },
  {
   "cell_type": "code",
   "execution_count": 67,
   "metadata": {
    "collapsed": false
   },
   "outputs": [
    {
     "data": {
      "text/plain": [
       "Index([u'01', u'02', u'03', u'04', u'05', u'06', u'07', u'08', u'09', u'10',\n",
       "       u'11', u'12'],\n",
       "      dtype='object', name=u'Month')"
      ]
     },
     "execution_count": 67,
     "metadata": {},
     "output_type": "execute_result"
    }
   ],
   "source": [
    "df_ts.index"
   ]
  },
  {
   "cell_type": "code",
   "execution_count": 110,
   "metadata": {
    "collapsed": false
   },
   "outputs": [],
   "source": [
    "idx_window = np.where(map(lambda x: x>=datetime.strftime(window1[0],'%m') and x<=datetime.strftime(window1[1],'%m'),df_ts.index))[0]"
   ]
  },
  {
   "cell_type": "code",
   "execution_count": 111,
   "metadata": {
    "collapsed": false
   },
   "outputs": [],
   "source": [
    "mean_window = np.mean(df_ts.values[idx_window])"
   ]
  },
  {
   "cell_type": "code",
   "execution_count": 112,
   "metadata": {
    "collapsed": true
   },
   "outputs": [],
   "source": [
    "std_window = np.std(df_ts.values[idx_window])"
   ]
  },
  {
   "cell_type": "code",
   "execution_count": 113,
   "metadata": {
    "collapsed": true
   },
   "outputs": [],
   "source": [
    "window2 = (datetime(2015,7,22),datetime(2013,9,21))"
   ]
  },
  {
   "cell_type": "code",
   "execution_count": 114,
   "metadata": {
    "collapsed": false
   },
   "outputs": [],
   "source": [
    "idx_window2 = np.where(map(lambda x: x>=datetime.strftime(window2[0],'%m') and x<=datetime.strftime(window2[1],'%m'), df_ts.index))[0]"
   ]
  },
  {
   "cell_type": "code",
   "execution_count": 115,
   "metadata": {
    "collapsed": true
   },
   "outputs": [],
   "source": [
    "mean_wdiff = mean_window - np.mean(df_ts.values[idx_window2])"
   ]
  },
  {
   "cell_type": "code",
   "execution_count": 116,
   "metadata": {
    "collapsed": true
   },
   "outputs": [],
   "source": [
    "std_wdiff = std_window - np.std(df_ts.values[idx_window2])"
   ]
  },
  {
   "cell_type": "code",
   "execution_count": 118,
   "metadata": {
    "collapsed": false
   },
   "outputs": [
    {
     "data": {
      "text/plain": [
       "-3105.416666666657"
      ]
     },
     "execution_count": 118,
     "metadata": {},
     "output_type": "execute_result"
    }
   ],
   "source": [
    "mean_wdiff\n"
   ]
  },
  {
   "cell_type": "code",
   "execution_count": 119,
   "metadata": {
    "collapsed": false
   },
   "outputs": [
    {
     "data": {
      "text/plain": [
       "1796.2202559362463"
      ]
     },
     "execution_count": 119,
     "metadata": {},
     "output_type": "execute_result"
    }
   ],
   "source": [
    "std_wdiff"
   ]
  },
  {
   "cell_type": "code",
   "execution_count": 120,
   "metadata": {
    "collapsed": false
   },
   "outputs": [
    {
     "data": {
      "image/png": "[encoded data removed]",
      "text/plain": [
       "<matplotlib.figure.Figure at 0x14f3b3bd0>"
      ]
     },
     "metadata": {},
     "output_type": "display_data"
    }
   ],
   "source": [
    "\n",
    "import scipy.signal\n",
    "\n",
    "# compute the periodogram\n",
    "f, psd = scipy.signal.periodogram(df_ts, detrend='linear')\n",
    "plt.plot(f, psd,'-ob')\n",
    "plt.xlabel('frequency [1/month]')\n",
    "plt.ylabel('Spectral Density')\n",
    "plt.show()\n",
    "\n",
    "# Features:\n",
    "# period of highest psd peak:\n",
    "period_psd1 = 1./f[np.argmax(psd)] # = 47.0 months\n",
    "\n",
    "# sum of spectral density higher than 1/12 months\n",
    "sdens_gt_12m = np.sum(psd[f > 1./12])\n",
    "# ratio of spectral density higher than to less than 1/12 months\n",
    "sdens_ratio_12m = float(sdens_gt_12m) / np.sum(psd[f <= 1./12])"
   ]
  },
  {
   "cell_type": "code",
   "execution_count": 123,
   "metadata": {
    "collapsed": false
   },
   "outputs": [
    {
     "data": {
      "text/plain": [
       "2.4000000000000004"
      ]
     },
     "execution_count": 123,
     "metadata": {},
     "output_type": "execute_result"
    }
   ],
   "source": [
    "period_psd1 \n"
   ]
  },
  {
   "cell_type": "code",
   "execution_count": 124,
   "metadata": {
    "collapsed": false
   },
   "outputs": [
    {
     "data": {
      "text/plain": [
       "449983570.99467206"
      ]
     },
     "execution_count": 124,
     "metadata": {},
     "output_type": "execute_result"
    }
   ],
   "source": [
    "sdens_gt_12m"
   ]
  },
  {
   "cell_type": "code",
   "execution_count": 125,
   "metadata": {
    "collapsed": false
   },
   "outputs": [
    {
     "data": {
      "text/plain": [
       "4.7984860242932657"
      ]
     },
     "execution_count": 125,
     "metadata": {},
     "output_type": "execute_result"
    }
   ],
   "source": [
    "sdens_ratio_12m"
   ]
  },
  {
   "cell_type": "code",
   "execution_count": null,
   "metadata": {
    "collapsed": true
   },
   "outputs": [],
   "source": []
  }
 ],
 "metadata": {
  "kernelspec": {
   "display_name": "Python 2",
   "language": "python",
   "name": "python2"
  },
  "language_info": {
   "codemirror_mode": {
    "name": "ipython",
    "version": 2
   },
   "file_extension": ".py",
   "mimetype": "text/x-python",
   "name": "python",
   "nbconvert_exporter": "python",
   "pygments_lexer": "ipython2",
   "version": "2.7.13"
  }
 },
 "nbformat": 4,
 "nbformat_minor": 2
}
